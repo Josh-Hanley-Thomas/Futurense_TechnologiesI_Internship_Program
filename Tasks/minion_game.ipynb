{
 "cells": [
  {
   "cell_type": "code",
   "execution_count": 1,
   "metadata": {},
   "outputs": [
    {
     "name": "stdout",
     "output_type": "stream",
     "text": [
      "Stuart 12\n"
     ]
    }
   ],
   "source": [
    "def minion_game(s):\n",
    "    vowels = \"AEIOU\"\n",
    "    stuart_score = 0\n",
    "    kevin_score = 0\n",
    "    length = len(s)\n",
    "\n",
    "    for i in range(length):\n",
    "        if s[i] in vowels:\n",
    "            kevin_score += length - i\n",
    "        else:\n",
    "            stuart_score += length - i\n",
    "\n",
    "    if stuart_score > kevin_score:\n",
    "        print(f\"Stuart {stuart_score}\")\n",
    "    elif kevin_score > stuart_score:\n",
    "        print(f\"Kevin {kevin_score}\")\n",
    "    else:\n",
    "        print(\"Draw\")\n",
    "\n",
    "\n",
    "string_s = \"BANANA\"\n",
    "minion_game(string_s)\n"
   ]
  }
 ],
 "metadata": {
  "kernelspec": {
   "display_name": "Python 3",
   "language": "python",
   "name": "python3"
  },
  "language_info": {
   "name": "python",
   "version": "3.10.11"
  }
 },
 "nbformat": 4,
 "nbformat_minor": 2
}
